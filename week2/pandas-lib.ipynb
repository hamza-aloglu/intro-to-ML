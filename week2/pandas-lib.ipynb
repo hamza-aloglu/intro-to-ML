{
 "cells": [
  {
   "cell_type": "code",
   "execution_count": 1,
   "id": "5f29ec4b",
   "metadata": {},
   "outputs": [
    {
     "name": "stdout",
     "output_type": "stream",
     "text": [
      "    Name  Age  Rating      City Country Profession\n",
      "0    Tom   28    4.23  New York     USA   Engineer\n",
      "1   Jack   34    3.24     Paris  France  Scientist\n",
      "2  Steve   29    3.98    London      UK     Lawyer\n",
      "3  Ricky   42    2.56    Mumbai   India     Doctor\n"
     ]
    }
   ],
   "source": [
    "import pandas as pd\n",
    "import numpy as np\n",
    "\n",
    "\n",
    "dictionary = {'Name': ['Tom', 'Jack', 'Steve', 'Ricky'], 'Age': [28, 34, 29, 42], 'Rating': [4.23, 3.24, 3.98, 2.56] , 'City': ['New York', 'Paris', 'London', 'Mumbai'] , 'Country': ['USA', 'France', 'UK', 'India'] , 'Profession': ['Engineer', 'Scientist', 'Lawyer', 'Doctor']}\n",
    "df = pd.DataFrame(dictionary)\n",
    "print(df)"
   ]
  },
  {
   "cell_type": "code",
   "execution_count": 3,
   "id": "51961560",
   "metadata": {},
   "outputs": [
    {
     "name": "stdout",
     "output_type": "stream",
     "text": [
      "        name   HP  HPinc   HP5  HP5inc   MP  MPinc    MP5  MP5inc     AD  ...  \\\n",
      "0     aatrox  397     85  5.75    0.50   30   45.0   0.00   0.000  55.00  ...   \n",
      "1       ahri  380     80  5.50    0.60  230   50.0   6.25   0.600  50.00  ...   \n",
      "2      akali  445     85  7.25    0.65  200    0.0  50.00   0.000  53.00  ...   \n",
      "3    alistar  442    102  7.25    0.85  215   38.0   6.45   0.450  55.03  ...   \n",
      "4      amumu  472     84  7.45    0.85  220   40.0   6.50   0.525  47.00  ...   \n",
      "..       ...  ...    ...   ...     ...  ...    ...    ...     ...    ...  ...   \n",
      "110      zac  455     95  7.00    0.55    0    0.0   0.00   0.000  54.00  ...   \n",
      "111      zed  445     80  6.00    0.65  200    0.0  50.00   0.000  49.00  ...   \n",
      "112    ziggs  390     80  5.25    0.60  250   50.0   6.75   0.600  51.00  ...   \n",
      "113   zilean  380     71  4.60    0.50  260   60.0   6.95   0.650  48.60  ...   \n",
      "114     zyra  355     74  4.85    0.50  250   50.0   7.10   0.750  50.00  ...   \n",
      "\n",
      "      MS  Range  HP_MAX  HP5_MAX  MP_MAX  MP5_MAX  AD_MAX  AS_MAX  AR_MAX  \\\n",
      "0    345    150  1925.0    14.75     840     0.00  112.60  54.651   82.40   \n",
      "1    330    550  1820.0    16.30    1130    17.05  104.00  36.668   74.00   \n",
      "2    350    125  1975.0    18.95     200    50.00  110.60  56.494   79.50   \n",
      "3    330    125  2278.0    22.55     899    14.55  120.19  38.875   77.50   \n",
      "4    335    125  1984.0    22.75     940    15.95  115.40  39.878   77.40   \n",
      "..   ...    ...     ...      ...     ...      ...     ...     ...     ...   \n",
      "110  335    125  1885.0    15.90       0     0.00  114.75  29.438   77.00   \n",
      "111  345    125  1830.0    16.95     200    50.00  110.20  56.458   80.00   \n",
      "112  330    575  1658.0    15.40    1150    17.55  106.80  36.656   71.40   \n",
      "113  335    600  1687.0    13.85    1340    18.65  102.60  38.965   75.15   \n",
      "114  325    575     NaN     9.00    1150    20.60  107.60  38.605   65.00   \n",
      "\n",
      "     MR_MAX  \n",
      "0      52.5  \n",
      "1      30.0  \n",
      "2      52.5  \n",
      "3      52.5  \n",
      "4      52.5  \n",
      "..      ...  \n",
      "110    52.5  \n",
      "111    52.5  \n",
      "112    30.0  \n",
      "113    30.0  \n",
      "114    30.0  \n",
      "\n",
      "[115 rows x 27 columns]\n"
     ]
    }
   ],
   "source": [
    "df = pd.read_csv(\"https://gist.githubusercontent.com/amytildazhang/9608982/raw/f8ae6468e24fb95a727fc801653721c2d5c097bc/stats.csv\")\n",
    "print(df)"
   ]
  },
  {
   "cell_type": "code",
   "execution_count": 4,
   "id": "9f64878c",
   "metadata": {},
   "outputs": [
    {
     "name": "stdout",
     "output_type": "stream",
     "text": [
      "      name   HP  HPinc   HP5  HP5inc   MP  MPinc    MP5  MP5inc     AD  ...  \\\n",
      "0   aatrox  397     85  5.75    0.50   30   45.0   0.00   0.000  55.00  ...   \n",
      "1     ahri  380     80  5.50    0.60  230   50.0   6.25   0.600  50.00  ...   \n",
      "2    akali  445     85  7.25    0.65  200    0.0  50.00   0.000  53.00  ...   \n",
      "3  alistar  442    102  7.25    0.85  215   38.0   6.45   0.450  55.03  ...   \n",
      "4    amumu  472     84  7.45    0.85  220   40.0   6.50   0.525  47.00  ...   \n",
      "\n",
      "    MS  Range  HP_MAX  HP5_MAX  MP_MAX  MP5_MAX  AD_MAX  AS_MAX  AR_MAX  \\\n",
      "0  345    150  1925.0    14.75     840     0.00  112.60  54.651    82.4   \n",
      "1  330    550  1820.0    16.30    1130    17.05  104.00  36.668    74.0   \n",
      "2  350    125  1975.0    18.95     200    50.00  110.60  56.494    79.5   \n",
      "3  330    125  2278.0    22.55     899    14.55  120.19  38.875    77.5   \n",
      "4  335    125  1984.0    22.75     940    15.95  115.40  39.878    77.4   \n",
      "\n",
      "   MR_MAX  \n",
      "0    52.5  \n",
      "1    30.0  \n",
      "2    52.5  \n",
      "3    52.5  \n",
      "4    52.5  \n",
      "\n",
      "[5 rows x 27 columns]\n"
     ]
    }
   ],
   "source": [
    "head = df.head()\n",
    "print(head)"
   ]
  },
  {
   "cell_type": "code",
   "execution_count": 5,
   "id": "9e65baab",
   "metadata": {},
   "outputs": [
    {
     "name": "stdout",
     "output_type": "stream",
     "text": [
      "Index(['name', 'HP', 'HPinc', 'HP5', 'HP5inc', 'MP', 'MPinc', 'MP5', 'MP5inc',\n",
      "       'AD', 'ADinc', 'AS', 'ASinc', 'AR', 'ARinc', 'MR', 'MRinc', 'MS',\n",
      "       'Range', 'HP_MAX', 'HP5_MAX', 'MP_MAX', 'MP5_MAX', 'AD_MAX', 'AS_MAX',\n",
      "       'AR_MAX', 'MR_MAX'],\n",
      "      dtype='object')\n",
      "<class 'pandas.core.frame.DataFrame'>\n",
      "RangeIndex: 115 entries, 0 to 114\n",
      "Data columns (total 27 columns):\n",
      " #   Column   Non-Null Count  Dtype  \n",
      "---  ------   --------------  -----  \n",
      " 0   name     115 non-null    object \n",
      " 1   HP       115 non-null    int64  \n",
      " 2   HPinc    115 non-null    int64  \n",
      " 3   HP5      115 non-null    float64\n",
      " 4   HP5inc   115 non-null    float64\n",
      " 5   MP       115 non-null    int64  \n",
      " 6   MPinc    115 non-null    float64\n",
      " 7   MP5      115 non-null    float64\n",
      " 8   MP5inc   115 non-null    float64\n",
      " 9   AD       115 non-null    float64\n",
      " 10  ADinc    115 non-null    float64\n",
      " 11  AS       115 non-null    float64\n",
      " 12  ASinc    115 non-null    float64\n",
      " 13  AR       115 non-null    float64\n",
      " 14  ARinc    115 non-null    float64\n",
      " 15  MR       115 non-null    int64  \n",
      " 16  MRinc    115 non-null    float64\n",
      " 17  MS       115 non-null    int64  \n",
      " 18  Range    115 non-null    int64  \n",
      " 19  HP_MAX   114 non-null    float64\n",
      " 20  HP5_MAX  115 non-null    float64\n",
      " 21  MP_MAX   115 non-null    int64  \n",
      " 22  MP5_MAX  115 non-null    float64\n",
      " 23  AD_MAX   115 non-null    float64\n",
      " 24  AS_MAX   115 non-null    float64\n",
      " 25  AR_MAX   115 non-null    float64\n",
      " 26  MR_MAX   115 non-null    float64\n",
      "dtypes: float64(19), int64(7), object(1)\n",
      "memory usage: 24.4+ KB\n",
      "None\n"
     ]
    }
   ],
   "source": [
    "print(df.columns)\n",
    "print(df.info())"
   ]
  },
  {
   "cell_type": "code",
   "execution_count": 6,
   "id": "906c9490",
   "metadata": {},
   "outputs": [
    {
     "name": "stdout",
     "output_type": "stream",
     "text": [
      "<bound method NDFrame.describe of         name   HP  HPinc   HP5  HP5inc   MP  MPinc    MP5  MP5inc     AD  ...  \\\n",
      "0     aatrox  397     85  5.75    0.50   30   45.0   0.00   0.000  55.00  ...   \n",
      "1       ahri  380     80  5.50    0.60  230   50.0   6.25   0.600  50.00  ...   \n",
      "2      akali  445     85  7.25    0.65  200    0.0  50.00   0.000  53.00  ...   \n",
      "3    alistar  442    102  7.25    0.85  215   38.0   6.45   0.450  55.03  ...   \n",
      "4      amumu  472     84  7.45    0.85  220   40.0   6.50   0.525  47.00  ...   \n",
      "..       ...  ...    ...   ...     ...  ...    ...    ...     ...    ...  ...   \n",
      "110      zac  455     95  7.00    0.55    0    0.0   0.00   0.000  54.00  ...   \n",
      "111      zed  445     80  6.00    0.65  200    0.0  50.00   0.000  49.00  ...   \n",
      "112    ziggs  390     80  5.25    0.60  250   50.0   6.75   0.600  51.00  ...   \n",
      "113   zilean  380     71  4.60    0.50  260   60.0   6.95   0.650  48.60  ...   \n",
      "114     zyra  355     74  4.85    0.50  250   50.0   7.10   0.750  50.00  ...   \n",
      "\n",
      "      MS  Range  HP_MAX  HP5_MAX  MP_MAX  MP5_MAX  AD_MAX  AS_MAX  AR_MAX  \\\n",
      "0    345    150  1925.0    14.75     840     0.00  112.60  54.651   82.40   \n",
      "1    330    550  1820.0    16.30    1130    17.05  104.00  36.668   74.00   \n",
      "2    350    125  1975.0    18.95     200    50.00  110.60  56.494   79.50   \n",
      "3    330    125  2278.0    22.55     899    14.55  120.19  38.875   77.50   \n",
      "4    335    125  1984.0    22.75     940    15.95  115.40  39.878   77.40   \n",
      "..   ...    ...     ...      ...     ...      ...     ...     ...     ...   \n",
      "110  335    125  1885.0    15.90       0     0.00  114.75  29.438   77.00   \n",
      "111  345    125  1830.0    16.95     200    50.00  110.20  56.458   80.00   \n",
      "112  330    575  1658.0    15.40    1150    17.55  106.80  36.656   71.40   \n",
      "113  335    600  1687.0    13.85    1340    18.65  102.60  38.965   75.15   \n",
      "114  325    575     NaN     9.00    1150    20.60  107.60  38.605   65.00   \n",
      "\n",
      "     MR_MAX  \n",
      "0      52.5  \n",
      "1      30.0  \n",
      "2      52.5  \n",
      "3      52.5  \n",
      "4      52.5  \n",
      "..      ...  \n",
      "110    52.5  \n",
      "111    52.5  \n",
      "112    30.0  \n",
      "113    30.0  \n",
      "114    30.0  \n",
      "\n",
      "[115 rows x 27 columns]>\n"
     ]
    }
   ],
   "source": [
    "print(df.describe)"
   ]
  },
  {
   "cell_type": "code",
   "execution_count": 9,
   "id": "56c2b937",
   "metadata": {},
   "outputs": [
    {
     "name": "stdout",
     "output_type": "stream",
     "text": [
      "0       aatrox\n",
      "1         ahri\n",
      "2        akali\n",
      "3      alistar\n",
      "4        amumu\n",
      "        ...   \n",
      "110        zac\n",
      "111        zed\n",
      "112      ziggs\n",
      "113     zilean\n",
      "114       zyra\n",
      "Name: name, Length: 115, dtype: object\n"
     ]
    }
   ],
   "source": [
    "print(df[\"name\"])"
   ]
  },
  {
   "cell_type": "code",
   "execution_count": 13,
   "id": "3a63d072",
   "metadata": {},
   "outputs": [
    {
     "name": "stdout",
     "output_type": "stream",
     "text": [
      "    HP  HPinc   HP5\n",
      "0  397     85  5.75\n",
      "1  380     80  5.50\n",
      "2  445     85  7.25\n",
      "3  442    102  7.25\n"
     ]
    }
   ],
   "source": [
    "print(df.loc[:3, \"HP\":\"HP5\"])"
   ]
  },
  {
   "cell_type": "code",
   "execution_count": 16,
   "id": "938e7378",
   "metadata": {},
   "outputs": [
    {
     "name": "stdout",
     "output_type": "stream",
     "text": [
      "      HP   bool\n",
      "0    397  False\n",
      "1    380  False\n",
      "2    445   True\n",
      "3    442   True\n",
      "4    472   True\n",
      "..   ...    ...\n",
      "110  455   True\n",
      "111  445   True\n",
      "112  390  False\n",
      "113  380  False\n",
      "114  355  False\n",
      "\n",
      "[115 rows x 2 columns]\n"
     ]
    }
   ],
   "source": [
    "filter = df.HP > 400\n",
    "df[\"bool\"] = filter\n",
    "print(df.loc[:, [\"HP\", \"bool\"]])"
   ]
  },
  {
   "cell_type": "code",
   "execution_count": 19,
   "id": "9c15b9c6",
   "metadata": {},
   "outputs": [
    {
     "name": "stdout",
     "output_type": "stream",
     "text": [
      "           name   HP  HPinc  HP5  HP5inc   MP  MPinc    MP5  MP5inc     AD  \\\n",
      "17       draven  420     82  5.0    0.70  240   42.0   6.95    0.65  46.50   \n",
      "28       graves  410     84  5.5    0.70  255   40.0   6.75    0.70  51.00   \n",
      "41       kennen  403     79  4.5    0.65  200    0.0  50.00    0.00  47.00   \n",
      "43       kogmaw  440     84  5.0    0.55  255   40.0   7.50    0.70  46.00   \n",
      "49         lulu  415     82  5.0    0.60  200   55.0   5.00    0.50  44.00   \n",
      "55  missfortune  435     85  5.1    0.65  212   38.0   6.95    0.65  46.50   \n",
      "57      morgana  403     86  4.7    0.60  240   60.0   6.80    0.65  51.58   \n",
      "90       thresh  411     89  6.0    0.55  200   44.0   5.00    0.70  46.00   \n",
      "91     tristana  415     82  5.1    0.65  193   32.0   6.45    0.45  46.50   \n",
      "97        urgot  437     89  5.5    0.60  220   55.0   7.50    0.65  48.00   \n",
      "\n",
      "    ...  Range  HP_MAX  HP5_MAX  MP_MAX  MP5_MAX  AD_MAX  AS_MAX  AR_MAX  \\\n",
      "17  ...    550  1896.0    17.60     996    18.65  109.50  49.279    75.4   \n",
      "28  ...    525  1922.0    18.10     975    19.35  106.80  52.825    72.6   \n",
      "41  ...    550  1825.0    16.20     200    50.00  106.40  61.890    81.5   \n",
      "43  ...    500  1952.0    14.90     975    20.10  100.00  48.365    73.0   \n",
      "49  ...    550  1767.0    15.30    1190    14.00   90.80  41.125    75.6   \n",
      "55  ...    550  1861.0    19.15     896    18.65  100.50  54.836    69.0   \n",
      "57  ...    425  1697.0    15.30    1320    18.50  114.58  28.119    83.4   \n",
      "90  ...    475  1891.0    15.00     992    17.60   85.60  18.625    12.0   \n",
      "91  ...    550  2183.0    19.70     769    14.55  100.50  72.656    69.0   \n",
      "97  ...    425  1876.0    15.30    1210    19.20  112.80  52.844    74.4   \n",
      "\n",
      "    MR_MAX  bool  \n",
      "17    30.0  True  \n",
      "28    30.0  True  \n",
      "41    30.0  True  \n",
      "43    30.0  True  \n",
      "49    30.0  True  \n",
      "55    30.0  True  \n",
      "57    30.0  True  \n",
      "90    30.0  True  \n",
      "91    30.0  True  \n",
      "97    30.0  True  \n",
      "\n",
      "[10 rows x 28 columns]\n"
     ]
    }
   ],
   "source": [
    "filter2 = df.Range > 200\n",
    "rangedChampions = df[filter&filter2]\n",
    "print(rangedChampions)"
   ]
  },
  {
   "cell_type": "code",
   "execution_count": 20,
   "id": "765dfe03",
   "metadata": {},
   "outputs": [
    {
     "name": "stdout",
     "output_type": "stream",
     "text": [
      "Index(['name', 'hp', 'hpinc', 'hp5', 'hp5inc', 'mp', 'mpinc', 'mp5', 'mp5inc',\n",
      "       'ad', 'adinc', 'as', 'asinc', 'ar', 'arinc', 'mr', 'mrinc', 'ms',\n",
      "       'range', 'hp_max', 'hp5_max', 'mp_max', 'mp5_max', 'ad_max', 'as_max',\n",
      "       'ar_max', 'mr_max', 'bool'],\n",
      "      dtype='object')\n"
     ]
    }
   ],
   "source": [
    "df.columns = [each.lower() for each in df.columns]\n",
    "print(df.columns)"
   ]
  },
  {
   "cell_type": "code",
   "execution_count": null,
   "id": "192323d3",
   "metadata": {},
   "outputs": [],
   "source": []
  }
 ],
 "metadata": {
  "kernelspec": {
   "display_name": "Python 3 (ipykernel)",
   "language": "python",
   "name": "python3"
  },
  "language_info": {
   "codemirror_mode": {
    "name": "ipython",
    "version": 3
   },
   "file_extension": ".py",
   "mimetype": "text/x-python",
   "name": "python",
   "nbconvert_exporter": "python",
   "pygments_lexer": "ipython3",
   "version": "3.9.13"
  }
 },
 "nbformat": 4,
 "nbformat_minor": 5
}
